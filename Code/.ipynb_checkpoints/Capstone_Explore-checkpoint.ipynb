{
 "cells": [
  {
   "cell_type": "markdown",
   "id": "df934765-3ed6-4ad8-a343-5ecc4d551e5b",
   "metadata": {},
   "source": [
    "## Exploration of The Training Data"
   ]
  },
  {
   "cell_type": "code",
   "execution_count": 1,
   "id": "8e3ced08-aad4-4e2e-9a81-0e0fba2292a1",
   "metadata": {},
   "outputs": [],
   "source": [
    "import pandas as pd\n",
    "import numpy as np\n",
    "import datetime as datetime\n",
    "import matplotlib.pyplot as plt\n",
    "import json\n",
    "\n",
    "from PIL import Image"
   ]
  },
  {
   "cell_type": "markdown",
   "id": "1ccdeeaa-8035-4a2f-a185-223884f99568",
   "metadata": {},
   "source": [
    "#### Loading and Exploring <i>**annotation**<i/> data"
   ]
  },
  {
   "cell_type": "code",
   "execution_count": 2,
   "id": "ceac27e3-79fd-49de-b626-89b70632d93c",
   "metadata": {},
   "outputs": [],
   "source": [
    "## Loading the train image annotations\n",
    "## this file is a json file\n",
    "\n",
    "train_json = json.load(open('Data/train/iwildcam2021_train_annotations.json')) "
   ]
  },
  {
   "cell_type": "code",
   "execution_count": 3,
   "id": "ed57c4cb-cb0d-43fd-a5fa-24fdb8df5f67",
   "metadata": {},
   "outputs": [
    {
     "data": {
      "text/plain": [
       "dict_keys(['images', 'annotations', 'categories'])"
      ]
     },
     "execution_count": 3,
     "metadata": {},
     "output_type": "execute_result"
    }
   ],
   "source": [
    "## json is a dict type\n",
    "## these are the keys; we can conver this into a DataFrame\n",
    "train_json.keys()"
   ]
  },
  {
   "cell_type": "code",
   "execution_count": 4,
   "id": "6dfa8955-12cc-4843-a85c-a6fc6d56af77",
   "metadata": {},
   "outputs": [
    {
     "data": {
      "text/plain": [
       "dict"
      ]
     },
     "execution_count": 4,
     "metadata": {},
     "output_type": "execute_result"
    }
   ],
   "source": [
    "type(train_json)"
   ]
  },
  {
   "cell_type": "code",
   "execution_count": 5,
   "id": "59c2edcd-ea5c-423a-9bad-bdc0689e6039",
   "metadata": {
    "scrolled": true,
    "tags": []
   },
   "outputs": [
    {
     "data": {
      "text/plain": [
       "[{'id': 0, 'name': 'empty'},\n",
       " {'id': 2, 'name': 'tayassu pecari'},\n",
       " {'id': 3, 'name': 'dasyprocta punctata'},\n",
       " {'id': 4, 'name': 'cuniculus paca'},\n",
       " {'id': 6, 'name': 'puma concolor'},\n",
       " {'id': 7, 'name': 'tapirus terrestris'},\n",
       " {'id': 8, 'name': 'pecari tajacu'},\n",
       " {'id': 9, 'name': 'mazama americana'},\n",
       " {'id': 10, 'name': 'leopardus pardalis'},\n",
       " {'id': 12, 'name': 'geotrygon montana'},\n",
       " {'id': 13, 'name': 'nasua nasua'},\n",
       " {'id': 14, 'name': 'dasypus novemcinctus'},\n",
       " {'id': 15, 'name': 'eira barbara'},\n",
       " {'id': 16, 'name': 'didelphis marsupialis'},\n",
       " {'id': 20, 'name': 'procyon cancrivorus'},\n",
       " {'id': 24, 'name': 'panthera onca'},\n",
       " {'id': 25, 'name': 'myrmecophaga tridactyla'},\n",
       " {'id': 26, 'name': 'tinamus major'},\n",
       " {'id': 32, 'name': 'sylvilagus brasiliensis'},\n",
       " {'id': 44, 'name': 'puma yagouaroundi'},\n",
       " {'id': 50, 'name': 'leopardus wiedii'},\n",
       " {'id': 62, 'name': 'mazama gouazoubira'},\n",
       " {'id': 67, 'name': 'philander opossum'},\n",
       " {'id': 70, 'name': 'capra aegagrus'},\n",
       " {'id': 71, 'name': 'bos taurus'},\n",
       " {'id': 72, 'name': 'ovis aries'},\n",
       " {'id': 73, 'name': 'canis lupus'},\n",
       " {'id': 74, 'name': 'lepus saxatilis'},\n",
       " {'id': 77, 'name': 'turtur calcospilos'},\n",
       " {'id': 78, 'name': 'papio anubis'},\n",
       " {'id': 80, 'name': 'genetta genetta'},\n",
       " {'id': 83, 'name': 'tragelaphus scriptus'},\n",
       " {'id': 86, 'name': 'equus africanus'},\n",
       " {'id': 89, 'name': 'herpestes sanguineus'},\n",
       " {'id': 90, 'name': 'loxodonta africana'},\n",
       " {'id': 91, 'name': 'cricetomys gambianus'},\n",
       " {'id': 92, 'name': 'raphicerus campestris'},\n",
       " {'id': 94, 'name': 'hyaena hyaena'},\n",
       " {'id': 96, 'name': 'aepyceros melampus'},\n",
       " {'id': 97, 'name': 'crocuta crocuta'},\n",
       " {'id': 98, 'name': 'caracal caracal'},\n",
       " {'id': 99, 'name': 'equus ferus'},\n",
       " {'id': 100, 'name': 'panthera leo'},\n",
       " {'id': 101, 'name': 'tragelaphus oryx'},\n",
       " {'id': 102, 'name': 'kobus ellipsiprymnus'},\n",
       " {'id': 103, 'name': 'phacochoerus africanus'},\n",
       " {'id': 104, 'name': 'panthera pardus'},\n",
       " {'id': 106, 'name': 'ichneumia albicauda'},\n",
       " {'id': 108, 'name': 'canis mesomelas'},\n",
       " {'id': 110, 'name': 'syncerus caffer'},\n",
       " {'id': 111, 'name': 'equus quagga'},\n",
       " {'id': 112, 'name': 'giraffa camelopardalis'},\n",
       " {'id': 113, 'name': 'alcelaphus buselaphus'},\n",
       " {'id': 114, 'name': 'chlorocebus pygerythrus'},\n",
       " {'id': 115, 'name': 'madoqua guentheri'},\n",
       " {'id': 116, 'name': 'potamochoerus larvatus'},\n",
       " {'id': 118, 'name': 'nanger granti'},\n",
       " {'id': 119, 'name': 'eudorcas thomsonii'},\n",
       " {'id': 120, 'name': 'struthio camelus'},\n",
       " {'id': 121, 'name': 'orycteropus afer'},\n",
       " {'id': 122, 'name': 'acinonyx jubatus'},\n",
       " {'id': 123, 'name': 'eupodotis senegalensis'},\n",
       " {'id': 124, 'name': 'felis silvestris'},\n",
       " {'id': 127, 'name': 'oryx beisa'},\n",
       " {'id': 129, 'name': 'lophotis gindiana'},\n",
       " {'id': 130, 'name': 'ardeotis kori'},\n",
       " {'id': 133, 'name': 'helogale parvula'},\n",
       " {'id': 134, 'name': 'lissotis melanogaster'},\n",
       " {'id': 139, 'name': 'argusianus argus'},\n",
       " {'id': 141, 'name': 'prionailurus bengalensis'},\n",
       " {'id': 142, 'name': 'hemigalus derbyanus'},\n",
       " {'id': 144, 'name': 'muntiacus muntjak'},\n",
       " {'id': 145, 'name': 'sus scrofa'},\n",
       " {'id': 147, 'name': 'helarctos malayanus'},\n",
       " {'id': 150, 'name': 'rusa unicolor'},\n",
       " {'id': 152, 'name': 'hystrix brachyura'},\n",
       " {'id': 153, 'name': 'pardofelis temminckii'},\n",
       " {'id': 154, 'name': 'panthera tigris'},\n",
       " {'id': 156, 'name': 'lariscus insignis'},\n",
       " {'id': 159, 'name': 'chalcophaps indica'},\n",
       " {'id': 161, 'name': 'genetta tigrina'},\n",
       " {'id': 162, 'name': 'hystrix cristata'},\n",
       " {'id': 163, 'name': 'lycaon pictus'},\n",
       " {'id': 166, 'name': 'procavia capensis'},\n",
       " {'id': 167, 'name': 'streptopilia senegalensis'},\n",
       " {'id': 170, 'name': 'ictonyx striatus'},\n",
       " {'id': 175, 'name': 'canis familiaris'},\n",
       " {'id': 177, 'name': 'unknown bird'},\n",
       " {'id': 198, 'name': 'unknown bat'},\n",
       " {'id': 221, 'name': 'momotus momota'},\n",
       " {'id': 227, 'name': 'psophia crepitans'},\n",
       " {'id': 229, 'name': 'nothocrax urumutum'},\n",
       " {'id': 230, 'name': 'dasyprocta fuliginosa'},\n",
       " {'id': 233, 'name': 'myoprocta pratti'},\n",
       " {'id': 234, 'name': 'proechimys sp'},\n",
       " {'id': 235, 'name': 'geotrygon sp'},\n",
       " {'id': 240, 'name': 'nasua narica'},\n",
       " {'id': 242, 'name': 'tamandua mexicana'},\n",
       " {'id': 243, 'name': 'didelphis sp'},\n",
       " {'id': 245, 'name': 'penelope purpurascens'},\n",
       " {'id': 250, 'name': 'aguila sp'},\n",
       " {'id': 251, 'name': 'phaetornis sp'},\n",
       " {'id': 252, 'name': 'paleosuchus sp'},\n",
       " {'id': 253, 'name': 'brotogeris sp'},\n",
       " {'id': 256, 'name': 'camelus dromedarius'},\n",
       " {'id': 257, 'name': 'otocyon megalotis'},\n",
       " {'id': 258, 'name': 'acryllium vulturinum'},\n",
       " {'id': 259, 'name': 'equus grevyi'},\n",
       " {'id': 262, 'name': 'proteles cristata'},\n",
       " {'id': 265, 'name': 'leptailurus serval'},\n",
       " {'id': 267, 'name': 'tragelaphus strepsiceros'},\n",
       " {'id': 268, 'name': 'hippopotamus amphibius'},\n",
       " {'id': 273, 'name': 'burhinus capensis'},\n",
       " {'id': 286, 'name': 'xerus rutilus'},\n",
       " {'id': 291, 'name': 'paguma larvata'},\n",
       " {'id': 292, 'name': 'pardofelis marmorata'},\n",
       " {'id': 294, 'name': 'cuon alpinus'},\n",
       " {'id': 296, 'name': 'varanus salvator'},\n",
       " {'id': 299, 'name': 'martes flavigula'},\n",
       " {'id': 300, 'name': 'prionodon linsang'},\n",
       " {'id': 301, 'name': 'rollulus rouloul'},\n",
       " {'id': 302, 'name': 'lophura inornata'},\n",
       " {'id': 306, 'name': 'polyplectron chalcurum'},\n",
       " {'id': 307, 'name': 'manis javanica'},\n",
       " {'id': 309, 'name': 'capricornis sumatraensis'},\n",
       " {'id': 310, 'name': 'macaca sp'},\n",
       " {'id': 315, 'name': 'francolinus nobilis'},\n",
       " {'id': 316, 'name': 'cercopithecus lhoesti'},\n",
       " {'id': 317, 'name': 'cephalophus nigrifrons'},\n",
       " {'id': 318, 'name': 'atherurus africanus'},\n",
       " {'id': 319, 'name': 'pan troglodytes'},\n",
       " {'id': 320, 'name': 'cercopithecus mitis'},\n",
       " {'id': 321, 'name': 'funisciurus carruthersi'},\n",
       " {'id': 322, 'name': 'motacilla flava'},\n",
       " {'id': 323, 'name': 'andropadus latirostris'},\n",
       " {'id': 324, 'name': 'andropadus virens'},\n",
       " {'id': 325, 'name': 'thamnomys venustus'},\n",
       " {'id': 326, 'name': 'protoxerus stangeri'},\n",
       " {'id': 327, 'name': 'paraxerus boehmi'},\n",
       " {'id': 328, 'name': 'cephalophus silvicultor'},\n",
       " {'id': 330, 'name': 'oenomys hypoxanthus'},\n",
       " {'id': 333, 'name': 'melocichla mentalis'},\n",
       " {'id': 334, 'name': 'hybomys univittatus'},\n",
       " {'id': 335, 'name': 'colomys goslingi'},\n",
       " {'id': 336, 'name': 'hylomyscus stella'},\n",
       " {'id': 337, 'name': 'genetta servalina'},\n",
       " {'id': 338, 'name': 'canis adustus'},\n",
       " {'id': 339, 'name': 'dioptrornis fischeri'},\n",
       " {'id': 340, 'name': 'mus minutoides'},\n",
       " {'id': 342, 'name': 'musophaga rossae'},\n",
       " {'id': 344, 'name': 'turtur tympanistria'},\n",
       " {'id': 345, 'name': 'praomys tullbergi'},\n",
       " {'id': 346, 'name': 'malacomys longipes'},\n",
       " {'id': 349, 'name': 'eurocephalus rueppelli'},\n",
       " {'id': 350, 'name': 'alopochen aegyptiaca'},\n",
       " {'id': 352, 'name': 'deomys ferrugineus'},\n",
       " {'id': 353, 'name': 'francolinus africanus'},\n",
       " {'id': 354, 'name': 'nandinia binotata'},\n",
       " {'id': 355, 'name': 'mesopicos griseocephalus'},\n",
       " {'id': 356, 'name': 'turdus olivaceus'},\n",
       " {'id': 357, 'name': 'streptopelia lugens'},\n",
       " {'id': 370, 'name': 'mazama sp'},\n",
       " {'id': 371, 'name': 'urocyon cinereoargenteus'},\n",
       " {'id': 372, 'name': 'meleagris ocellata'},\n",
       " {'id': 374, 'name': 'crax rubra'},\n",
       " {'id': 375, 'name': 'agouti paca'},\n",
       " {'id': 376, 'name': 'tapirus bairdii'},\n",
       " {'id': 377, 'name': 'procyon lotor'},\n",
       " {'id': 378, 'name': 'odocoileus virginianus'},\n",
       " {'id': 379, 'name': 'leptotila plumbeiceps'},\n",
       " {'id': 380, 'name': 'mazama temama'},\n",
       " {'id': 382, 'name': 'conepatus semistriatus'},\n",
       " {'id': 384, 'name': 'mazama pandora'},\n",
       " {'id': 385, 'name': 'ortalis vetula'},\n",
       " {'id': 389, 'name': 'presbytis thomasi'},\n",
       " {'id': 390, 'name': 'neofelis diardi'},\n",
       " {'id': 391, 'name': 'arctonyx hoevenii'},\n",
       " {'id': 402, 'name': 'tragulus sp'},\n",
       " {'id': 405, 'name': 'dendrocitta occipitalis'},\n",
       " {'id': 406, 'name': 'niltava sumatrana'},\n",
       " {'id': 407, 'name': 'mustela lutreolina'},\n",
       " {'id': 408, 'name': 'leiothrix argentauris'},\n",
       " {'id': 409, 'name': 'myiophoneus melanurus'},\n",
       " {'id': 410, 'name': 'arborophila rubrirostris'},\n",
       " {'id': 412, 'name': 'erithacus cyane'},\n",
       " {'id': 413, 'name': 'lophura sp'},\n",
       " {'id': 414, 'name': 'myiophoneus glaucinus'},\n",
       " {'id': 415, 'name': 'lophura erythrophthalma'},\n",
       " {'id': 416, 'name': 'spilornis cheela'},\n",
       " {'id': 417, 'name': 'myiophoneus caeruleus'},\n",
       " {'id': 418, 'name': 'herpestes semitorquatus'},\n",
       " {'id': 419, 'name': 'collocalia linchi'},\n",
       " {'id': 420, 'name': 'callosciurus notatus'},\n",
       " {'id': 422, 'name': 'cerdocyon thous'},\n",
       " {'id': 558, 'name': 'motorcycle'},\n",
       " {'id': 559, 'name': 'peromyscus sp'},\n",
       " {'id': 562, 'name': 'puma yagoroundi'},\n",
       " {'id': 563, 'name': 'tigrisoma mexicanum'},\n",
       " {'id': 564, 'name': 'canis latrans'},\n",
       " {'id': 565, 'name': 'claravis pretiosa'},\n",
       " {'id': 566, 'name': 'sciurus sp'},\n",
       " {'id': 567, 'name': 'ave desconocida'},\n",
       " {'id': 568, 'name': 'aramides cajanea'},\n",
       " {'id': 570, 'name': 'aramus guarauna'},\n",
       " {'id': 571, 'name': 'mazama  temama'}]"
      ]
     },
     "execution_count": 5,
     "metadata": {},
     "output_type": "execute_result"
    }
   ],
   "source": [
    "## there are 570 categories\n",
    "## only contains the number and names of overall categories\n",
    "train_json['categories']"
   ]
  },
  {
   "cell_type": "code",
   "execution_count": 6,
   "id": "7fb80ad5-e04f-49ce-99cc-cc47c1266733",
   "metadata": {
    "scrolled": true,
    "tags": []
   },
   "outputs": [
    {
     "data": {
      "text/plain": [
       "203314"
      ]
     },
     "execution_count": 6,
     "metadata": {},
     "output_type": "execute_result"
    }
   ],
   "source": [
    "## looking at the images key\n",
    "## there is about 203k images\n",
    "len(train_json['images'])"
   ]
  },
  {
   "cell_type": "code",
   "execution_count": 7,
   "id": "aa4cf312-c211-4784-8d31-2e8c2837583a",
   "metadata": {
    "scrolled": true,
    "tags": []
   },
   "outputs": [
    {
     "data": {
      "text/plain": [
       "[{'seq_num_frames': 6,\n",
       "  'location': 3,\n",
       "  'datetime': '2013-06-05 05:44:19.000',\n",
       "  'id': '8b02698a-21bc-11ea-a13a-137349068a90',\n",
       "  'seq_id': '30048d32-7d42-11eb-8fb5-0242ac1c0002',\n",
       "  'width': 1920,\n",
       "  'height': 1080,\n",
       "  'file_name': '8b02698a-21bc-11ea-a13a-137349068a90.jpg',\n",
       "  'sub_location': 0,\n",
       "  'seq_frame_num': 0},\n",
       " {'seq_num_frames': 6,\n",
       "  'location': 3,\n",
       "  'datetime': '2013-06-05 05:44:20.000',\n",
       "  'id': '8e5b81de-21bc-11ea-a13a-137349068a90',\n",
       "  'seq_id': '30048d32-7d42-11eb-8fb5-0242ac1c0002',\n",
       "  'width': 1920,\n",
       "  'height': 1080,\n",
       "  'file_name': '8e5b81de-21bc-11ea-a13a-137349068a90.jpg',\n",
       "  'sub_location': 0,\n",
       "  'seq_frame_num': 1},\n",
       " {'seq_num_frames': 6,\n",
       "  'location': 3,\n",
       "  'datetime': '2013-06-05 05:44:21.000',\n",
       "  'id': '8c6be0e4-21bc-11ea-a13a-137349068a90',\n",
       "  'seq_id': '30048d32-7d42-11eb-8fb5-0242ac1c0002',\n",
       "  'width': 1920,\n",
       "  'height': 1080,\n",
       "  'file_name': '8c6be0e4-21bc-11ea-a13a-137349068a90.jpg',\n",
       "  'sub_location': 0,\n",
       "  'seq_frame_num': 2},\n",
       " {'seq_num_frames': 6,\n",
       "  'location': 3,\n",
       "  'datetime': '2013-06-05 05:44:22.000',\n",
       "  'id': '8fdf7998-21bc-11ea-a13a-137349068a90',\n",
       "  'seq_id': '30048d32-7d42-11eb-8fb5-0242ac1c0002',\n",
       "  'width': 1920,\n",
       "  'height': 1080,\n",
       "  'file_name': '8fdf7998-21bc-11ea-a13a-137349068a90.jpg',\n",
       "  'sub_location': 0,\n",
       "  'seq_frame_num': 3},\n",
       " {'seq_num_frames': 6,\n",
       "  'location': 3,\n",
       "  'datetime': '2013-06-05 05:44:23.000',\n",
       "  'id': '96093c50-21bc-11ea-a13a-137349068a90',\n",
       "  'seq_id': '30048d32-7d42-11eb-8fb5-0242ac1c0002',\n",
       "  'width': 1920,\n",
       "  'height': 1080,\n",
       "  'file_name': '96093c50-21bc-11ea-a13a-137349068a90.jpg',\n",
       "  'sub_location': 0,\n",
       "  'seq_frame_num': 4}]"
      ]
     },
     "execution_count": 7,
     "metadata": {},
     "output_type": "execute_result"
    }
   ],
   "source": [
    "train_json['images'][:5]"
   ]
  },
  {
   "cell_type": "code",
   "execution_count": 8,
   "id": "6e5dbf45-c06c-4d4e-91bb-83871614d3d1",
   "metadata": {
    "scrolled": true,
    "tags": []
   },
   "outputs": [
    {
     "data": {
      "text/plain": [
       "[{'id': 'a292dd3c-21bc-11ea-a13a-137349068a90',\n",
       "  'image_id': '96b00332-21bc-11ea-a13a-137349068a90',\n",
       "  'category_id': 73},\n",
       " {'id': 'a0afcfc0-21bc-11ea-a13a-137349068a90',\n",
       "  'image_id': '879d74d8-21bc-11ea-a13a-137349068a90',\n",
       "  'category_id': 4},\n",
       " {'id': 'a306e9c0-21bc-11ea-a13a-137349068a90',\n",
       "  'image_id': '9017f7aa-21bc-11ea-a13a-137349068a90',\n",
       "  'category_id': 227},\n",
       " {'id': '9eed94c4-21bc-11ea-a13a-137349068a90',\n",
       "  'image_id': '90d93c58-21bc-11ea-a13a-137349068a90',\n",
       "  'category_id': 250},\n",
       " {'id': 'a2a4dd7a-21bc-11ea-a13a-137349068a90',\n",
       "  'image_id': '887cd0ec-21bc-11ea-a13a-137349068a90',\n",
       "  'category_id': 2},\n",
       " {'id': '9f159262-21bc-11ea-a13a-137349068a90',\n",
       "  'image_id': '9137d902-21bc-11ea-a13a-137349068a90',\n",
       "  'category_id': 233},\n",
       " {'id': 'a1b98046-21bc-11ea-a13a-137349068a90',\n",
       "  'image_id': '9784a768-21bc-11ea-a13a-137349068a90',\n",
       "  'category_id': 230},\n",
       " {'id': '9c3ec4aa-21bc-11ea-a13a-137349068a90',\n",
       "  'image_id': '8a3643d2-21bc-11ea-a13a-137349068a90',\n",
       "  'category_id': 233},\n",
       " {'id': 'a15348da-21bc-11ea-a13a-137349068a90',\n",
       "  'image_id': '94351fb6-21bc-11ea-a13a-137349068a90',\n",
       "  'category_id': 6},\n",
       " {'id': '9cf9a130-21bc-11ea-a13a-137349068a90',\n",
       "  'image_id': '8c74033c-21bc-11ea-a13a-137349068a90',\n",
       "  'category_id': 227}]"
      ]
     },
     "execution_count": 8,
     "metadata": {},
     "output_type": "execute_result"
    }
   ],
   "source": [
    "## contains cat annotations mapped to training image data\n",
    "train_json['annotations'][:10]"
   ]
  },
  {
   "cell_type": "code",
   "execution_count": 9,
   "id": "857c1d34-0b95-42bf-be6d-4d474d50cd1f",
   "metadata": {},
   "outputs": [],
   "source": [
    "## cannot convert the entire json file into a dataframe\n",
    "#entire_df = pd.DataFrame(train_json)"
   ]
  },
  {
   "cell_type": "markdown",
   "id": "b712716e-a016-499d-8403-e42970a7d17e",
   "metadata": {},
   "source": [
    "#### Splitting JSON file into three seperate domains"
   ]
  },
  {
   "cell_type": "markdown",
   "id": "d76582a8-54b7-4615-b56d-34356c920ecb",
   "metadata": {},
   "source": [
    "This should make it easier to read and use only the data that I need"
   ]
  },
  {
   "cell_type": "code",
   "execution_count": 10,
   "id": "fed3a5c6-5e62-4899-97d4-ff3491677b78",
   "metadata": {},
   "outputs": [],
   "source": [
    "train_annotations = pd.DataFrame(train_json['annotations'])\n",
    "train_images = pd.DataFrame(train_json['images'])\n",
    "train_categories = pd.DataFrame(train_json['categories'])"
   ]
  },
  {
   "cell_type": "markdown",
   "id": "a7d5965f-3a0e-4e71-b996-de3d3aafb230",
   "metadata": {},
   "source": [
    "#### Exloring the three different dataframes"
   ]
  },
  {
   "cell_type": "code",
   "execution_count": 11,
   "id": "638dd42a-8fde-43eb-93e7-15161d4df58a",
   "metadata": {},
   "outputs": [
    {
     "name": "stdout",
     "output_type": "stream",
     "text": [
      "<class 'pandas.core.frame.DataFrame'>\n",
      "RangeIndex: 205 entries, 0 to 204\n",
      "Data columns (total 2 columns):\n",
      " #   Column  Non-Null Count  Dtype \n",
      "---  ------  --------------  ----- \n",
      " 0   id      205 non-null    int64 \n",
      " 1   name    205 non-null    object\n",
      "dtypes: int64(1), object(1)\n",
      "memory usage: 3.3+ KB\n"
     ]
    }
   ],
   "source": [
    "train_categories.info()"
   ]
  },
  {
   "cell_type": "code",
   "execution_count": 12,
   "id": "0ba8a118-95c2-4d71-8a30-021ca6ddc320",
   "metadata": {},
   "outputs": [
    {
     "data": {
      "text/html": [
       "<div>\n",
       "<style scoped>\n",
       "    .dataframe tbody tr th:only-of-type {\n",
       "        vertical-align: middle;\n",
       "    }\n",
       "\n",
       "    .dataframe tbody tr th {\n",
       "        vertical-align: top;\n",
       "    }\n",
       "\n",
       "    .dataframe thead th {\n",
       "        text-align: right;\n",
       "    }\n",
       "</style>\n",
       "<table border=\"1\" class=\"dataframe\">\n",
       "  <thead>\n",
       "    <tr style=\"text-align: right;\">\n",
       "      <th></th>\n",
       "      <th>id</th>\n",
       "      <th>name</th>\n",
       "    </tr>\n",
       "  </thead>\n",
       "  <tbody>\n",
       "    <tr>\n",
       "      <th>0</th>\n",
       "      <td>0</td>\n",
       "      <td>empty</td>\n",
       "    </tr>\n",
       "    <tr>\n",
       "      <th>1</th>\n",
       "      <td>2</td>\n",
       "      <td>tayassu pecari</td>\n",
       "    </tr>\n",
       "    <tr>\n",
       "      <th>2</th>\n",
       "      <td>3</td>\n",
       "      <td>dasyprocta punctata</td>\n",
       "    </tr>\n",
       "    <tr>\n",
       "      <th>3</th>\n",
       "      <td>4</td>\n",
       "      <td>cuniculus paca</td>\n",
       "    </tr>\n",
       "    <tr>\n",
       "      <th>4</th>\n",
       "      <td>6</td>\n",
       "      <td>puma concolor</td>\n",
       "    </tr>\n",
       "  </tbody>\n",
       "</table>\n",
       "</div>"
      ],
      "text/plain": [
       "   id                 name\n",
       "0   0                empty\n",
       "1   2       tayassu pecari\n",
       "2   3  dasyprocta punctata\n",
       "3   4       cuniculus paca\n",
       "4   6        puma concolor"
      ]
     },
     "execution_count": 12,
     "metadata": {},
     "output_type": "execute_result"
    }
   ],
   "source": [
    "## this dataframe tell us the species information\n",
    "train_categories.head()"
   ]
  },
  {
   "cell_type": "code",
   "execution_count": 13,
   "id": "45e71f2a-b56f-4a24-8209-4af52bdebbe3",
   "metadata": {},
   "outputs": [
    {
     "data": {
      "text/html": [
       "<div>\n",
       "<style scoped>\n",
       "    .dataframe tbody tr th:only-of-type {\n",
       "        vertical-align: middle;\n",
       "    }\n",
       "\n",
       "    .dataframe tbody tr th {\n",
       "        vertical-align: top;\n",
       "    }\n",
       "\n",
       "    .dataframe thead th {\n",
       "        text-align: right;\n",
       "    }\n",
       "</style>\n",
       "<table border=\"1\" class=\"dataframe\">\n",
       "  <thead>\n",
       "    <tr style=\"text-align: right;\">\n",
       "      <th></th>\n",
       "      <th>id</th>\n",
       "      <th>name</th>\n",
       "    </tr>\n",
       "  </thead>\n",
       "  <tbody>\n",
       "    <tr>\n",
       "      <th>200</th>\n",
       "      <td>566</td>\n",
       "      <td>sciurus sp</td>\n",
       "    </tr>\n",
       "    <tr>\n",
       "      <th>201</th>\n",
       "      <td>567</td>\n",
       "      <td>ave desconocida</td>\n",
       "    </tr>\n",
       "    <tr>\n",
       "      <th>202</th>\n",
       "      <td>568</td>\n",
       "      <td>aramides cajanea</td>\n",
       "    </tr>\n",
       "    <tr>\n",
       "      <th>203</th>\n",
       "      <td>570</td>\n",
       "      <td>aramus guarauna</td>\n",
       "    </tr>\n",
       "    <tr>\n",
       "      <th>204</th>\n",
       "      <td>571</td>\n",
       "      <td>mazama  temama</td>\n",
       "    </tr>\n",
       "  </tbody>\n",
       "</table>\n",
       "</div>"
      ],
      "text/plain": [
       "      id              name\n",
       "200  566        sciurus sp\n",
       "201  567   ave desconocida\n",
       "202  568  aramides cajanea\n",
       "203  570   aramus guarauna\n",
       "204  571    mazama  temama"
      ]
     },
     "execution_count": 13,
     "metadata": {},
     "output_type": "execute_result"
    }
   ],
   "source": [
    "train_categories.tail()"
   ]
  },
  {
   "cell_type": "code",
   "execution_count": 14,
   "id": "13258105-f1d6-472c-b767-eb668ff170a0",
   "metadata": {},
   "outputs": [
    {
     "data": {
      "text/html": [
       "<div>\n",
       "<style scoped>\n",
       "    .dataframe tbody tr th:only-of-type {\n",
       "        vertical-align: middle;\n",
       "    }\n",
       "\n",
       "    .dataframe tbody tr th {\n",
       "        vertical-align: top;\n",
       "    }\n",
       "\n",
       "    .dataframe thead th {\n",
       "        text-align: right;\n",
       "    }\n",
       "</style>\n",
       "<table border=\"1\" class=\"dataframe\">\n",
       "  <thead>\n",
       "    <tr style=\"text-align: right;\">\n",
       "      <th></th>\n",
       "      <th>id</th>\n",
       "      <th>image_id</th>\n",
       "      <th>category_id</th>\n",
       "    </tr>\n",
       "  </thead>\n",
       "  <tbody>\n",
       "    <tr>\n",
       "      <th>0</th>\n",
       "      <td>a292dd3c-21bc-11ea-a13a-137349068a90</td>\n",
       "      <td>96b00332-21bc-11ea-a13a-137349068a90</td>\n",
       "      <td>73</td>\n",
       "    </tr>\n",
       "    <tr>\n",
       "      <th>1</th>\n",
       "      <td>a0afcfc0-21bc-11ea-a13a-137349068a90</td>\n",
       "      <td>879d74d8-21bc-11ea-a13a-137349068a90</td>\n",
       "      <td>4</td>\n",
       "    </tr>\n",
       "    <tr>\n",
       "      <th>2</th>\n",
       "      <td>a306e9c0-21bc-11ea-a13a-137349068a90</td>\n",
       "      <td>9017f7aa-21bc-11ea-a13a-137349068a90</td>\n",
       "      <td>227</td>\n",
       "    </tr>\n",
       "    <tr>\n",
       "      <th>3</th>\n",
       "      <td>9eed94c4-21bc-11ea-a13a-137349068a90</td>\n",
       "      <td>90d93c58-21bc-11ea-a13a-137349068a90</td>\n",
       "      <td>250</td>\n",
       "    </tr>\n",
       "    <tr>\n",
       "      <th>4</th>\n",
       "      <td>a2a4dd7a-21bc-11ea-a13a-137349068a90</td>\n",
       "      <td>887cd0ec-21bc-11ea-a13a-137349068a90</td>\n",
       "      <td>2</td>\n",
       "    </tr>\n",
       "  </tbody>\n",
       "</table>\n",
       "</div>"
      ],
      "text/plain": [
       "                                     id                              image_id  \\\n",
       "0  a292dd3c-21bc-11ea-a13a-137349068a90  96b00332-21bc-11ea-a13a-137349068a90   \n",
       "1  a0afcfc0-21bc-11ea-a13a-137349068a90  879d74d8-21bc-11ea-a13a-137349068a90   \n",
       "2  a306e9c0-21bc-11ea-a13a-137349068a90  9017f7aa-21bc-11ea-a13a-137349068a90   \n",
       "3  9eed94c4-21bc-11ea-a13a-137349068a90  90d93c58-21bc-11ea-a13a-137349068a90   \n",
       "4  a2a4dd7a-21bc-11ea-a13a-137349068a90  887cd0ec-21bc-11ea-a13a-137349068a90   \n",
       "\n",
       "   category_id  \n",
       "0           73  \n",
       "1            4  \n",
       "2          227  \n",
       "3          250  \n",
       "4            2  "
      ]
     },
     "execution_count": 14,
     "metadata": {},
     "output_type": "execute_result"
    }
   ],
   "source": [
    "train_annotations.head()"
   ]
  },
  {
   "cell_type": "code",
   "execution_count": 15,
   "id": "a2d215e2-fe79-420c-9f4d-a3dcc9abab9c",
   "metadata": {},
   "outputs": [
    {
     "name": "stdout",
     "output_type": "stream",
     "text": [
      "<class 'pandas.core.frame.DataFrame'>\n",
      "RangeIndex: 203314 entries, 0 to 203313\n",
      "Data columns (total 3 columns):\n",
      " #   Column       Non-Null Count   Dtype \n",
      "---  ------       --------------   ----- \n",
      " 0   id           203314 non-null  object\n",
      " 1   image_id     203314 non-null  object\n",
      " 2   category_id  203314 non-null  int64 \n",
      "dtypes: int64(1), object(2)\n",
      "memory usage: 4.7+ MB\n"
     ]
    }
   ],
   "source": [
    "train_annotations.info()"
   ]
  },
  {
   "cell_type": "code",
   "execution_count": 16,
   "id": "368f7f33-5239-4f6f-bb30-b3bdaf48a0b5",
   "metadata": {},
   "outputs": [
    {
     "data": {
      "text/html": [
       "<div>\n",
       "<style scoped>\n",
       "    .dataframe tbody tr th:only-of-type {\n",
       "        vertical-align: middle;\n",
       "    }\n",
       "\n",
       "    .dataframe tbody tr th {\n",
       "        vertical-align: top;\n",
       "    }\n",
       "\n",
       "    .dataframe thead th {\n",
       "        text-align: right;\n",
       "    }\n",
       "</style>\n",
       "<table border=\"1\" class=\"dataframe\">\n",
       "  <thead>\n",
       "    <tr style=\"text-align: right;\">\n",
       "      <th></th>\n",
       "      <th>id</th>\n",
       "      <th>image_id</th>\n",
       "      <th>category_id</th>\n",
       "    </tr>\n",
       "  </thead>\n",
       "  <tbody>\n",
       "    <tr>\n",
       "      <th>139605</th>\n",
       "      <td>9e8db252-21bc-11ea-a13a-137349068a90</td>\n",
       "      <td>8b02698a-21bc-11ea-a13a-137349068a90</td>\n",
       "      <td>380</td>\n",
       "    </tr>\n",
       "  </tbody>\n",
       "</table>\n",
       "</div>"
      ],
      "text/plain": [
       "                                          id  \\\n",
       "139605  9e8db252-21bc-11ea-a13a-137349068a90   \n",
       "\n",
       "                                    image_id  category_id  \n",
       "139605  8b02698a-21bc-11ea-a13a-137349068a90          380  "
      ]
     },
     "execution_count": 16,
     "metadata": {},
     "output_type": "execute_result"
    }
   ],
   "source": [
    "## checking to confirm there is annotated data for the images in the train_images dataframe\n",
    "## there is; have to search train_annotations with image_id and not id\n",
    "\n",
    "train_annotations [ train_annotations['image_id'] == '8b02698a-21bc-11ea-a13a-137349068a90']"
   ]
  },
  {
   "cell_type": "code",
   "execution_count": 17,
   "id": "e4f8abfb-e64e-41de-a5dd-2439dfb9a565",
   "metadata": {},
   "outputs": [
    {
     "data": {
      "text/plain": [
       "203314"
      ]
     },
     "execution_count": 17,
     "metadata": {},
     "output_type": "execute_result"
    }
   ],
   "source": [
    "## checking to see if the amount of images matches up with the train_images\n",
    "train_annotations['image_id'].nunique()"
   ]
  },
  {
   "cell_type": "code",
   "execution_count": 18,
   "id": "ebc68a95-5fc4-4c4b-bbdd-46dd07617a82",
   "metadata": {},
   "outputs": [
    {
     "data": {
      "text/plain": [
       "0      69487\n",
       "372    16282\n",
       "374    12408\n",
       "96      8440\n",
       "317     7414\n",
       "       ...  \n",
       "306        1\n",
       "420        1\n",
       "114        1\n",
       "296        1\n",
       "408        1\n",
       "Name: category_id, Length: 205, dtype: int64"
      ]
     },
     "execution_count": 18,
     "metadata": {},
     "output_type": "execute_result"
    }
   ],
   "source": [
    "## checking to see what the class counts look like\n",
    "train_annotations['category_id'].value_counts()"
   ]
  },
  {
   "cell_type": "code",
   "execution_count": 19,
   "id": "4148139d-aa31-43e8-b07c-aa1d0f9124d6",
   "metadata": {},
   "outputs": [
    {
     "data": {
      "image/png": "[encoded data removed]",
      "text/plain": [
       "<Figure size 432x288 with 1 Axes>"
      ]
     },
     "metadata": {
      "needs_background": "light"
     },
     "output_type": "display_data"
    }
   ],
   "source": [
    "## visulizing what the class balance looks like\n",
    "## very unbalanced \n",
    "\n",
    "train_annotations['category_id'].hist();"
   ]
  },
  {
   "cell_type": "code",
   "execution_count": 20,
   "id": "3b01d186-394e-4780-bc31-394b06d2c9cf",
   "metadata": {
    "scrolled": true,
    "tags": []
   },
   "outputs": [
    {
     "data": {
      "text/html": [
       "<div>\n",
       "<style scoped>\n",
       "    .dataframe tbody tr th:only-of-type {\n",
       "        vertical-align: middle;\n",
       "    }\n",
       "\n",
       "    .dataframe tbody tr th {\n",
       "        vertical-align: top;\n",
       "    }\n",
       "\n",
       "    .dataframe thead th {\n",
       "        text-align: right;\n",
       "    }\n",
       "</style>\n",
       "<table border=\"1\" class=\"dataframe\">\n",
       "  <thead>\n",
       "    <tr style=\"text-align: right;\">\n",
       "      <th></th>\n",
       "      <th>seq_num_frames</th>\n",
       "      <th>location</th>\n",
       "      <th>datetime</th>\n",
       "      <th>id</th>\n",
       "      <th>seq_id</th>\n",
       "      <th>width</th>\n",
       "      <th>height</th>\n",
       "      <th>file_name</th>\n",
       "      <th>sub_location</th>\n",
       "      <th>seq_frame_num</th>\n",
       "    </tr>\n",
       "  </thead>\n",
       "  <tbody>\n",
       "    <tr>\n",
       "      <th>0</th>\n",
       "      <td>6</td>\n",
       "      <td>3</td>\n",
       "      <td>2013-06-05 05:44:19.000</td>\n",
       "      <td>8b02698a-21bc-11ea-a13a-137349068a90</td>\n",
       "      <td>30048d32-7d42-11eb-8fb5-0242ac1c0002</td>\n",
       "      <td>1920</td>\n",
       "      <td>1080</td>\n",
       "      <td>8b02698a-21bc-11ea-a13a-137349068a90.jpg</td>\n",
       "      <td>0.0</td>\n",
       "      <td>0</td>\n",
       "    </tr>\n",
       "    <tr>\n",
       "      <th>1</th>\n",
       "      <td>6</td>\n",
       "      <td>3</td>\n",
       "      <td>2013-06-05 05:44:20.000</td>\n",
       "      <td>8e5b81de-21bc-11ea-a13a-137349068a90</td>\n",
       "      <td>30048d32-7d42-11eb-8fb5-0242ac1c0002</td>\n",
       "      <td>1920</td>\n",
       "      <td>1080</td>\n",
       "      <td>8e5b81de-21bc-11ea-a13a-137349068a90.jpg</td>\n",
       "      <td>0.0</td>\n",
       "      <td>1</td>\n",
       "    </tr>\n",
       "    <tr>\n",
       "      <th>2</th>\n",
       "      <td>6</td>\n",
       "      <td>3</td>\n",
       "      <td>2013-06-05 05:44:21.000</td>\n",
       "      <td>8c6be0e4-21bc-11ea-a13a-137349068a90</td>\n",
       "      <td>30048d32-7d42-11eb-8fb5-0242ac1c0002</td>\n",
       "      <td>1920</td>\n",
       "      <td>1080</td>\n",
       "      <td>8c6be0e4-21bc-11ea-a13a-137349068a90.jpg</td>\n",
       "      <td>0.0</td>\n",
       "      <td>2</td>\n",
       "    </tr>\n",
       "    <tr>\n",
       "      <th>3</th>\n",
       "      <td>6</td>\n",
       "      <td>3</td>\n",
       "      <td>2013-06-05 05:44:22.000</td>\n",
       "      <td>8fdf7998-21bc-11ea-a13a-137349068a90</td>\n",
       "      <td>30048d32-7d42-11eb-8fb5-0242ac1c0002</td>\n",
       "      <td>1920</td>\n",
       "      <td>1080</td>\n",
       "      <td>8fdf7998-21bc-11ea-a13a-137349068a90.jpg</td>\n",
       "      <td>0.0</td>\n",
       "      <td>3</td>\n",
       "    </tr>\n",
       "    <tr>\n",
       "      <th>4</th>\n",
       "      <td>6</td>\n",
       "      <td>3</td>\n",
       "      <td>2013-06-05 05:44:23.000</td>\n",
       "      <td>96093c50-21bc-11ea-a13a-137349068a90</td>\n",
       "      <td>30048d32-7d42-11eb-8fb5-0242ac1c0002</td>\n",
       "      <td>1920</td>\n",
       "      <td>1080</td>\n",
       "      <td>96093c50-21bc-11ea-a13a-137349068a90.jpg</td>\n",
       "      <td>0.0</td>\n",
       "      <td>4</td>\n",
       "    </tr>\n",
       "    <tr>\n",
       "      <th>5</th>\n",
       "      <td>6</td>\n",
       "      <td>3</td>\n",
       "      <td>2013-06-05 05:44:23.000</td>\n",
       "      <td>97968e24-21bc-11ea-a13a-137349068a90</td>\n",
       "      <td>30048d32-7d42-11eb-8fb5-0242ac1c0002</td>\n",
       "      <td>1920</td>\n",
       "      <td>1080</td>\n",
       "      <td>97968e24-21bc-11ea-a13a-137349068a90.jpg</td>\n",
       "      <td>0.0</td>\n",
       "      <td>5</td>\n",
       "    </tr>\n",
       "    <tr>\n",
       "      <th>6</th>\n",
       "      <td>3</td>\n",
       "      <td>313</td>\n",
       "      <td>2013-07-25 12:16:33.000</td>\n",
       "      <td>8a8663bc-21bc-11ea-a13a-137349068a90</td>\n",
       "      <td>929aea96-21bc-11ea-a13a-137349068a90</td>\n",
       "      <td>2048</td>\n",
       "      <td>1536</td>\n",
       "      <td>8a8663bc-21bc-11ea-a13a-137349068a90.jpg</td>\n",
       "      <td>NaN</td>\n",
       "      <td>0</td>\n",
       "    </tr>\n",
       "    <tr>\n",
       "      <th>7</th>\n",
       "      <td>3</td>\n",
       "      <td>313</td>\n",
       "      <td>2013-07-25 12:16:37.000</td>\n",
       "      <td>929ae924-21bc-11ea-a13a-137349068a90</td>\n",
       "      <td>929aea96-21bc-11ea-a13a-137349068a90</td>\n",
       "      <td>2048</td>\n",
       "      <td>1536</td>\n",
       "      <td>929ae924-21bc-11ea-a13a-137349068a90.jpg</td>\n",
       "      <td>NaN</td>\n",
       "      <td>1</td>\n",
       "    </tr>\n",
       "    <tr>\n",
       "      <th>8</th>\n",
       "      <td>3</td>\n",
       "      <td>313</td>\n",
       "      <td>2013-07-25 12:16:41.000</td>\n",
       "      <td>8f2390a2-21bc-11ea-a13a-137349068a90</td>\n",
       "      <td>929aea96-21bc-11ea-a13a-137349068a90</td>\n",
       "      <td>2048</td>\n",
       "      <td>1536</td>\n",
       "      <td>8f2390a2-21bc-11ea-a13a-137349068a90.jpg</td>\n",
       "      <td>NaN</td>\n",
       "      <td>2</td>\n",
       "    </tr>\n",
       "    <tr>\n",
       "      <th>9</th>\n",
       "      <td>3</td>\n",
       "      <td>350</td>\n",
       "      <td>2013-06-22 14:10:26.000</td>\n",
       "      <td>8de8db2a-21bc-11ea-a13a-137349068a90</td>\n",
       "      <td>932b6724-21bc-11ea-a13a-137349068a90</td>\n",
       "      <td>2048</td>\n",
       "      <td>1536</td>\n",
       "      <td>8de8db2a-21bc-11ea-a13a-137349068a90.jpg</td>\n",
       "      <td>NaN</td>\n",
       "      <td>0</td>\n",
       "    </tr>\n",
       "    <tr>\n",
       "      <th>10</th>\n",
       "      <td>3</td>\n",
       "      <td>350</td>\n",
       "      <td>2013-06-22 14:10:31.000</td>\n",
       "      <td>8c863016-21bc-11ea-a13a-137349068a90</td>\n",
       "      <td>932b6724-21bc-11ea-a13a-137349068a90</td>\n",
       "      <td>2048</td>\n",
       "      <td>1536</td>\n",
       "      <td>8c863016-21bc-11ea-a13a-137349068a90.jpg</td>\n",
       "      <td>NaN</td>\n",
       "      <td>1</td>\n",
       "    </tr>\n",
       "    <tr>\n",
       "      <th>11</th>\n",
       "      <td>3</td>\n",
       "      <td>350</td>\n",
       "      <td>2013-06-22 14:10:36.000</td>\n",
       "      <td>932b659e-21bc-11ea-a13a-137349068a90</td>\n",
       "      <td>932b6724-21bc-11ea-a13a-137349068a90</td>\n",
       "      <td>2048</td>\n",
       "      <td>1536</td>\n",
       "      <td>932b659e-21bc-11ea-a13a-137349068a90.jpg</td>\n",
       "      <td>NaN</td>\n",
       "      <td>2</td>\n",
       "    </tr>\n",
       "    <tr>\n",
       "      <th>12</th>\n",
       "      <td>10</td>\n",
       "      <td>10</td>\n",
       "      <td>2013-03-02 07:58:12.000</td>\n",
       "      <td>97522af4-21bc-11ea-a13a-137349068a90</td>\n",
       "      <td>302b4594-7d42-11eb-8fb5-0242ac1c0002</td>\n",
       "      <td>1920</td>\n",
       "      <td>1080</td>\n",
       "      <td>97522af4-21bc-11ea-a13a-137349068a90.jpg</td>\n",
       "      <td>NaN</td>\n",
       "      <td>0</td>\n",
       "    </tr>\n",
       "    <tr>\n",
       "      <th>13</th>\n",
       "      <td>10</td>\n",
       "      <td>10</td>\n",
       "      <td>2013-03-02 07:58:19.000</td>\n",
       "      <td>8f5be394-21bc-11ea-a13a-137349068a90</td>\n",
       "      <td>302b4594-7d42-11eb-8fb5-0242ac1c0002</td>\n",
       "      <td>1920</td>\n",
       "      <td>1080</td>\n",
       "      <td>8f5be394-21bc-11ea-a13a-137349068a90.jpg</td>\n",
       "      <td>NaN</td>\n",
       "      <td>1</td>\n",
       "    </tr>\n",
       "    <tr>\n",
       "      <th>14</th>\n",
       "      <td>10</td>\n",
       "      <td>10</td>\n",
       "      <td>2013-03-02 07:58:20.000</td>\n",
       "      <td>8f42411e-21bc-11ea-a13a-137349068a90</td>\n",
       "      <td>302b4594-7d42-11eb-8fb5-0242ac1c0002</td>\n",
       "      <td>1920</td>\n",
       "      <td>1080</td>\n",
       "      <td>8f42411e-21bc-11ea-a13a-137349068a90.jpg</td>\n",
       "      <td>NaN</td>\n",
       "      <td>2</td>\n",
       "    </tr>\n",
       "    <tr>\n",
       "      <th>15</th>\n",
       "      <td>10</td>\n",
       "      <td>10</td>\n",
       "      <td>2013-03-02 07:58:21.000</td>\n",
       "      <td>9901b0b8-21bc-11ea-a13a-137349068a90</td>\n",
       "      <td>302b4594-7d42-11eb-8fb5-0242ac1c0002</td>\n",
       "      <td>1920</td>\n",
       "      <td>1080</td>\n",
       "      <td>9901b0b8-21bc-11ea-a13a-137349068a90.jpg</td>\n",
       "      <td>NaN</td>\n",
       "      <td>3</td>\n",
       "    </tr>\n",
       "    <tr>\n",
       "      <th>16</th>\n",
       "      <td>10</td>\n",
       "      <td>10</td>\n",
       "      <td>2013-03-02 07:58:23.000</td>\n",
       "      <td>8d397b62-21bc-11ea-a13a-137349068a90</td>\n",
       "      <td>302b4594-7d42-11eb-8fb5-0242ac1c0002</td>\n",
       "      <td>1920</td>\n",
       "      <td>1080</td>\n",
       "      <td>8d397b62-21bc-11ea-a13a-137349068a90.jpg</td>\n",
       "      <td>NaN</td>\n",
       "      <td>4</td>\n",
       "    </tr>\n",
       "    <tr>\n",
       "      <th>17</th>\n",
       "      <td>10</td>\n",
       "      <td>10</td>\n",
       "      <td>2013-03-02 07:58:24.000</td>\n",
       "      <td>9229ccc6-21bc-11ea-a13a-137349068a90</td>\n",
       "      <td>302b4594-7d42-11eb-8fb5-0242ac1c0002</td>\n",
       "      <td>1920</td>\n",
       "      <td>1080</td>\n",
       "      <td>9229ccc6-21bc-11ea-a13a-137349068a90.jpg</td>\n",
       "      <td>NaN</td>\n",
       "      <td>5</td>\n",
       "    </tr>\n",
       "    <tr>\n",
       "      <th>18</th>\n",
       "      <td>10</td>\n",
       "      <td>10</td>\n",
       "      <td>2013-03-02 07:58:25.000</td>\n",
       "      <td>8eb9698e-21bc-11ea-a13a-137349068a90</td>\n",
       "      <td>302b4594-7d42-11eb-8fb5-0242ac1c0002</td>\n",
       "      <td>1920</td>\n",
       "      <td>1080</td>\n",
       "      <td>8eb9698e-21bc-11ea-a13a-137349068a90.jpg</td>\n",
       "      <td>NaN</td>\n",
       "      <td>6</td>\n",
       "    </tr>\n",
       "    <tr>\n",
       "      <th>19</th>\n",
       "      <td>10</td>\n",
       "      <td>10</td>\n",
       "      <td>2013-03-02 07:58:26.000</td>\n",
       "      <td>87cae3e6-21bc-11ea-a13a-137349068a90</td>\n",
       "      <td>302b4594-7d42-11eb-8fb5-0242ac1c0002</td>\n",
       "      <td>1920</td>\n",
       "      <td>1080</td>\n",
       "      <td>87cae3e6-21bc-11ea-a13a-137349068a90.jpg</td>\n",
       "      <td>NaN</td>\n",
       "      <td>7</td>\n",
       "    </tr>\n",
       "  </tbody>\n",
       "</table>\n",
       "</div>"
      ],
      "text/plain": [
       "    seq_num_frames  location                 datetime  \\\n",
       "0                6         3  2013-06-05 05:44:19.000   \n",
       "1                6         3  2013-06-05 05:44:20.000   \n",
       "2                6         3  2013-06-05 05:44:21.000   \n",
       "3                6         3  2013-06-05 05:44:22.000   \n",
       "4                6         3  2013-06-05 05:44:23.000   \n",
       "5                6         3  2013-06-05 05:44:23.000   \n",
       "6                3       313  2013-07-25 12:16:33.000   \n",
       "7                3       313  2013-07-25 12:16:37.000   \n",
       "8                3       313  2013-07-25 12:16:41.000   \n",
       "9                3       350  2013-06-22 14:10:26.000   \n",
       "10               3       350  2013-06-22 14:10:31.000   \n",
       "11               3       350  2013-06-22 14:10:36.000   \n",
       "12              10        10  2013-03-02 07:58:12.000   \n",
       "13              10        10  2013-03-02 07:58:19.000   \n",
       "14              10        10  2013-03-02 07:58:20.000   \n",
       "15              10        10  2013-03-02 07:58:21.000   \n",
       "16              10        10  2013-03-02 07:58:23.000   \n",
       "17              10        10  2013-03-02 07:58:24.000   \n",
       "18              10        10  2013-03-02 07:58:25.000   \n",
       "19              10        10  2013-03-02 07:58:26.000   \n",
       "\n",
       "                                      id  \\\n",
       "0   8b02698a-21bc-11ea-a13a-137349068a90   \n",
       "1   8e5b81de-21bc-11ea-a13a-137349068a90   \n",
       "2   8c6be0e4-21bc-11ea-a13a-137349068a90   \n",
       "3   8fdf7998-21bc-11ea-a13a-137349068a90   \n",
       "4   96093c50-21bc-11ea-a13a-137349068a90   \n",
       "5   97968e24-21bc-11ea-a13a-137349068a90   \n",
       "6   8a8663bc-21bc-11ea-a13a-137349068a90   \n",
       "7   929ae924-21bc-11ea-a13a-137349068a90   \n",
       "8   8f2390a2-21bc-11ea-a13a-137349068a90   \n",
       "9   8de8db2a-21bc-11ea-a13a-137349068a90   \n",
       "10  8c863016-21bc-11ea-a13a-137349068a90   \n",
       "11  932b659e-21bc-11ea-a13a-137349068a90   \n",
       "12  97522af4-21bc-11ea-a13a-137349068a90   \n",
       "13  8f5be394-21bc-11ea-a13a-137349068a90   \n",
       "14  8f42411e-21bc-11ea-a13a-137349068a90   \n",
       "15  9901b0b8-21bc-11ea-a13a-137349068a90   \n",
       "16  8d397b62-21bc-11ea-a13a-137349068a90   \n",
       "17  9229ccc6-21bc-11ea-a13a-137349068a90   \n",
       "18  8eb9698e-21bc-11ea-a13a-137349068a90   \n",
       "19  87cae3e6-21bc-11ea-a13a-137349068a90   \n",
       "\n",
       "                                  seq_id  width  height  \\\n",
       "0   30048d32-7d42-11eb-8fb5-0242ac1c0002   1920    1080   \n",
       "1   30048d32-7d42-11eb-8fb5-0242ac1c0002   1920    1080   \n",
       "2   30048d32-7d42-11eb-8fb5-0242ac1c0002   1920    1080   \n",
       "3   30048d32-7d42-11eb-8fb5-0242ac1c0002   1920    1080   \n",
       "4   30048d32-7d42-11eb-8fb5-0242ac1c0002   1920    1080   \n",
       "5   30048d32-7d42-11eb-8fb5-0242ac1c0002   1920    1080   \n",
       "6   929aea96-21bc-11ea-a13a-137349068a90   2048    1536   \n",
       "7   929aea96-21bc-11ea-a13a-137349068a90   2048    1536   \n",
       "8   929aea96-21bc-11ea-a13a-137349068a90   2048    1536   \n",
       "9   932b6724-21bc-11ea-a13a-137349068a90   2048    1536   \n",
       "10  932b6724-21bc-11ea-a13a-137349068a90   2048    1536   \n",
       "11  932b6724-21bc-11ea-a13a-137349068a90   2048    1536   \n",
       "12  302b4594-7d42-11eb-8fb5-0242ac1c0002   1920    1080   \n",
       "13  302b4594-7d42-11eb-8fb5-0242ac1c0002   1920    1080   \n",
       "14  302b4594-7d42-11eb-8fb5-0242ac1c0002   1920    1080   \n",
       "15  302b4594-7d42-11eb-8fb5-0242ac1c0002   1920    1080   \n",
       "16  302b4594-7d42-11eb-8fb5-0242ac1c0002   1920    1080   \n",
       "17  302b4594-7d42-11eb-8fb5-0242ac1c0002   1920    1080   \n",
       "18  302b4594-7d42-11eb-8fb5-0242ac1c0002   1920    1080   \n",
       "19  302b4594-7d42-11eb-8fb5-0242ac1c0002   1920    1080   \n",
       "\n",
       "                                   file_name  sub_location  seq_frame_num  \n",
       "0   8b02698a-21bc-11ea-a13a-137349068a90.jpg           0.0              0  \n",
       "1   8e5b81de-21bc-11ea-a13a-137349068a90.jpg           0.0              1  \n",
       "2   8c6be0e4-21bc-11ea-a13a-137349068a90.jpg           0.0              2  \n",
       "3   8fdf7998-21bc-11ea-a13a-137349068a90.jpg           0.0              3  \n",
       "4   96093c50-21bc-11ea-a13a-137349068a90.jpg           0.0              4  \n",
       "5   97968e24-21bc-11ea-a13a-137349068a90.jpg           0.0              5  \n",
       "6   8a8663bc-21bc-11ea-a13a-137349068a90.jpg           NaN              0  \n",
       "7   929ae924-21bc-11ea-a13a-137349068a90.jpg           NaN              1  \n",
       "8   8f2390a2-21bc-11ea-a13a-137349068a90.jpg           NaN              2  \n",
       "9   8de8db2a-21bc-11ea-a13a-137349068a90.jpg           NaN              0  \n",
       "10  8c863016-21bc-11ea-a13a-137349068a90.jpg           NaN              1  \n",
       "11  932b659e-21bc-11ea-a13a-137349068a90.jpg           NaN              2  \n",
       "12  97522af4-21bc-11ea-a13a-137349068a90.jpg           NaN              0  \n",
       "13  8f5be394-21bc-11ea-a13a-137349068a90.jpg           NaN              1  \n",
       "14  8f42411e-21bc-11ea-a13a-137349068a90.jpg           NaN              2  \n",
       "15  9901b0b8-21bc-11ea-a13a-137349068a90.jpg           NaN              3  \n",
       "16  8d397b62-21bc-11ea-a13a-137349068a90.jpg           NaN              4  \n",
       "17  9229ccc6-21bc-11ea-a13a-137349068a90.jpg           NaN              5  \n",
       "18  8eb9698e-21bc-11ea-a13a-137349068a90.jpg           NaN              6  \n",
       "19  87cae3e6-21bc-11ea-a13a-137349068a90.jpg           NaN              7  "
      ]
     },
     "execution_count": 20,
     "metadata": {},
     "output_type": "execute_result"
    }
   ],
   "source": [
    "train_images.head(20)"
   ]
  },
  {
   "cell_type": "code",
   "execution_count": 21,
   "id": "f24984c3-b81f-4d71-9a5e-198cf3b74f06",
   "metadata": {},
   "outputs": [
    {
     "name": "stdout",
     "output_type": "stream",
     "text": [
      "<class 'pandas.core.frame.DataFrame'>\n",
      "RangeIndex: 203314 entries, 0 to 203313\n",
      "Data columns (total 10 columns):\n",
      " #   Column          Non-Null Count   Dtype  \n",
      "---  ------          --------------   -----  \n",
      " 0   seq_num_frames  203314 non-null  int64  \n",
      " 1   location        203314 non-null  int64  \n",
      " 2   datetime        203314 non-null  object \n",
      " 3   id              203314 non-null  object \n",
      " 4   seq_id          203314 non-null  object \n",
      " 5   width           203314 non-null  int64  \n",
      " 6   height          203314 non-null  int64  \n",
      " 7   file_name       203314 non-null  object \n",
      " 8   sub_location    27813 non-null   float64\n",
      " 9   seq_frame_num   203314 non-null  int64  \n",
      "dtypes: float64(1), int64(5), object(4)\n",
      "memory usage: 15.5+ MB\n"
     ]
    }
   ],
   "source": [
    "train_images.info()"
   ]
  },
  {
   "cell_type": "code",
   "execution_count": 22,
   "id": "b4374fd0-b9cd-4f94-a1a0-75c298f290bf",
   "metadata": {},
   "outputs": [
    {
     "data": {
      "text/plain": [
       "203314"
      ]
     },
     "execution_count": 22,
     "metadata": {},
     "output_type": "execute_result"
    }
   ],
   "source": [
    "## checking to see if there are any duplicate images / how many unique images in the train_images DF\n",
    "train_images['file_name'].nunique()"
   ]
  },
  {
   "cell_type": "code",
   "execution_count": 23,
   "id": "2f5c99d8-5a2f-4d9c-80b6-02653f8fe225",
   "metadata": {},
   "outputs": [],
   "source": [
    "## taking a closer look at the seq_num_frames column\n",
    "## what is the average number of series frames \n"
   ]
  },
  {
   "cell_type": "code",
   "execution_count": 24,
   "id": "993c9e32-d812-4b0d-a767-e4658018053f",
   "metadata": {},
   "outputs": [
    {
     "data": {
      "text/plain": [
       "count    203314.000000\n",
       "mean       1830.382089\n",
       "std         310.470342\n",
       "min        1280.000000\n",
       "25%        1920.000000\n",
       "50%        1920.000000\n",
       "75%        2048.000000\n",
       "max        3565.000000\n",
       "Name: width, dtype: float64"
      ]
     },
     "execution_count": 24,
     "metadata": {},
     "output_type": "execute_result"
    }
   ],
   "source": [
    "## Taking a look at the width and height of these images\n",
    "train_images['width'].describe()"
   ]
  },
  {
   "cell_type": "code",
   "execution_count": 25,
   "id": "2ff24048-54b7-43ac-8207-9a3dfd6a4d5c",
   "metadata": {},
   "outputs": [
    {
     "name": "stdout",
     "output_type": "stream",
     "text": [
      "The max width of an image is: 3565\n"
     ]
    }
   ],
   "source": [
    "max_width = max(train_images['width'])\n",
    "print(f'The max width of an image is: {max_width}')"
   ]
  },
  {
   "cell_type": "code",
   "execution_count": 26,
   "id": "e3b3070c-fd61-4f1b-af84-7d56124c71f1",
   "metadata": {},
   "outputs": [
    {
     "name": "stdout",
     "output_type": "stream",
     "text": [
      "The min width of an image is: 1280\n"
     ]
    }
   ],
   "source": [
    "min_width = min(train_images['width'])\n",
    "print(f'The min width of an image is: {min_width}')"
   ]
  },
  {
   "cell_type": "code",
   "execution_count": 27,
   "id": "dec10824-d2e4-45f0-bc1f-bcaeb971ddfa",
   "metadata": {},
   "outputs": [
    {
     "name": "stdout",
     "output_type": "stream",
     "text": [
      "The max height of an image is: 2226\n"
     ]
    }
   ],
   "source": [
    "max_height = max(train_images['height'])\n",
    "print(f'The max height of an image is: {max_height}')"
   ]
  },
  {
   "cell_type": "code",
   "execution_count": 34,
   "id": "fcff2f72-e84f-419b-81d1-1282f8d91721",
   "metadata": {},
   "outputs": [
    {
     "name": "stdout",
     "output_type": "stream",
     "text": [
      "The min height of an image is: 720\n"
     ]
    }
   ],
   "source": [
    "min_height = min(train_images['height'])\n",
    "print(f'The min height of an image is: {min_height}')"
   ]
  },
  {
   "cell_type": "markdown",
   "id": "2eb91689-7f74-46bf-acfd-957a04ef4ca5",
   "metadata": {},
   "source": [
    "### Visualizing Images"
   ]
  },
  {
   "cell_type": "code",
   "execution_count": null,
   "id": "4057e3c0-1ddd-482d-b9c0-e037bfccdb53",
   "metadata": {},
   "outputs": [],
   "source": [
    "train_images.head()"
   ]
  },
  {
   "cell_type": "code",
   "execution_count": 5,
   "id": "73bf3611-8973-42be-97bb-8075c2ff5a6b",
   "metadata": {},
   "outputs": [],
   "source": [
    "## trying to visualize some images\n",
    "## using \n",
    "im = Image.open('Data/train/train_mini/00659_Animalia_Arthropoda_Insecta_Hemiptera_Reduviidae_Zelus_tetracanthus/76eddbc8-40d4-43c4-9a07-271a1fb21c0b.jpg')"
   ]
  },
  {
   "cell_type": "code",
   "execution_count": 6,
   "id": "f9869780-68db-4329-ad4a-f6a69fed1646",
   "metadata": {},
   "outputs": [],
   "source": [
    "im.show()"
   ]
  },
  {
   "cell_type": "markdown",
   "id": "e961d5ed-4338-4452-8891-5492005385a7",
   "metadata": {},
   "source": [
    "#### Loading and Exploring <i>**MegaDetector**<i/> data"
   ]
  },
  {
   "cell_type": "code",
   "execution_count": 29,
   "id": "b29f44d3-a61b-4ddf-ae02-dd1067ce1e20",
   "metadata": {},
   "outputs": [],
   "source": [
    "mega_json = json.load(open('Data/mega_res/iwildcam2021_megadetector_results.json'))"
   ]
  },
  {
   "cell_type": "code",
   "execution_count": 30,
   "id": "261e6b83-b109-41b8-9a88-e53fb05d97d1",
   "metadata": {},
   "outputs": [
    {
     "data": {
      "text/plain": [
       "dict_keys(['info', 'images', 'detection_categories'])"
      ]
     },
     "execution_count": 30,
     "metadata": {},
     "output_type": "execute_result"
    }
   ],
   "source": [
    "mega_json.keys()"
   ]
  },
  {
   "cell_type": "code",
   "execution_count": 32,
   "id": "2c477f86-68a6-49f5-860b-eb936e307749",
   "metadata": {},
   "outputs": [
    {
     "data": {
      "text/plain": [
       "{'detections': [{'category': '1',\n",
       "   'bbox': [0.6529, 0.5425, 0.3471, 0.4038],\n",
       "   'conf': 0.999}],\n",
       " 'id': '905a3c8c-21bc-11ea-a13a-137349068a90',\n",
       " 'max_detection_conf': 0.999}"
      ]
     },
     "execution_count": 32,
     "metadata": {},
     "output_type": "execute_result"
    }
   ],
   "source": [
    "mega_json['images'][0]"
   ]
  },
  {
   "cell_type": "code",
   "execution_count": null,
   "id": "f09541a6-3edd-495b-a487-de04d84fa5a8",
   "metadata": {},
   "outputs": [],
   "source": []
  }
 ],
 "metadata": {
  "kernelspec": {
   "display_name": "Python 3 (ipykernel)",
   "language": "python",
   "name": "python3"
  },
  "language_info": {
   "codemirror_mode": {
    "name": "ipython",
    "version": 3
   },
   "file_extension": ".py",
   "mimetype": "text/x-python",
   "name": "python",
   "nbconvert_exporter": "python",
   "pygments_lexer": "ipython3",
   "version": "3.9.5"
  }
 },
 "nbformat": 4,
 "nbformat_minor": 5
}
